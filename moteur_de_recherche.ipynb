{
 "cells": [
  {
   "cell_type": "markdown",
   "metadata": {},
   "source": [
    "# Moteur de recherche"
   ]
  },
  {
   "cell_type": "code",
   "execution_count": 1,
   "metadata": {},
   "outputs": [],
   "source": [
    "from transformers import CamembertTokenizer, CamembertModel\n",
    "import torch\n",
    "import numpy as np\n",
    "import pandas as pd\n",
    "from scipy.spatial.distance import cosine"
   ]
  },
  {
   "cell_type": "code",
   "execution_count": 2,
   "metadata": {},
   "outputs": [
    {
     "name": "stderr",
     "output_type": "stream",
     "text": [
      "Downloading (…)tencepiece.bpe.model: 100%|██████████| 811k/811k [00:00<00:00, 2.23MB/s]\n",
      "c:\\Users\\julie\\AppData\\Local\\Programs\\Python\\Python310\\lib\\site-packages\\huggingface_hub\\file_download.py:133: UserWarning: `huggingface_hub` cache-system uses symlinks by default to efficiently store duplicated files but your machine does not support them in C:\\Users\\julie\\.cache\\huggingface\\hub. Caching files will still work but in a degraded version that might require more space on your disk. This warning can be disabled by setting the `HF_HUB_DISABLE_SYMLINKS_WARNING` environment variable. For more details, see https://huggingface.co/docs/huggingface_hub/how-to-cache#limitations.\n",
      "To support symlinks on Windows, you either need to activate Developer Mode or to run Python as an administrator. In order to see activate developer mode, see this article: https://docs.microsoft.com/en-us/windows/apps/get-started/enable-your-device-for-development\n",
      "  warnings.warn(message)\n",
      "Downloading tokenizer_config.json: 100%|██████████| 25.0/25.0 [00:00<00:00, 12.5kB/s]\n",
      "Downloading config.json: 100%|██████████| 508/508 [00:00<00:00, 254kB/s]\n",
      "Downloading pytorch_model.bin: 100%|██████████| 445M/445M [00:09<00:00, 46.3MB/s] \n",
      "Some weights of the model checkpoint at camembert-base were not used when initializing CamembertModel: ['lm_head.layer_norm.weight', 'lm_head.dense.bias', 'lm_head.dense.weight', 'lm_head.layer_norm.bias', 'lm_head.decoder.weight', 'lm_head.bias']\n",
      "- This IS expected if you are initializing CamembertModel from the checkpoint of a model trained on another task or with another architecture (e.g. initializing a BertForSequenceClassification model from a BertForPreTraining model).\n",
      "- This IS NOT expected if you are initializing CamembertModel from the checkpoint of a model that you expect to be exactly identical (initializing a BertForSequenceClassification model from a BertForSequenceClassification model).\n"
     ]
    }
   ],
   "source": [
    "# Chargement du modèle et du tokenizer CamemBERT\n",
    "model_name = 'camembert-base'\n",
    "tokenizer = CamembertTokenizer.from_pretrained(model_name)\n",
    "model = CamembertModel.from_pretrained(model_name)"
   ]
  },
  {
   "cell_type": "code",
   "execution_count": 3,
   "metadata": {},
   "outputs": [],
   "source": [
    "# Fonction pour obtenir l'encodage Camembert du corpus\n",
    "def encode_corpus(corpus):\n",
    "    corpus_embeddings = []\n",
    "    for text in corpus:\n",
    "        input_ids = tokenizer.encode(text, add_special_tokens=True, return_tensors='pt')\n",
    "        with torch.no_grad():\n",
    "            outputs = model(input_ids)\n",
    "            embeddings = outputs[0][:, 0, :].squeeze().numpy()\n",
    "            corpus_embeddings.append(embeddings)\n",
    "\n",
    "    return corpus_embeddings\n",
    "\n",
    "# Fonction pour calculer la similarité cosinus entre deux vecteurs\n",
    "def cosine_similarity(vector1, vector2):\n",
    "    return 1 - cosine(vector1, vector2)"
   ]
  },
  {
   "cell_type": "code",
   "execution_count": 4,
   "metadata": {},
   "outputs": [],
   "source": [
    "def search_similar_texts(input_text, corpus_embeddings, corpus, n=5):\n",
    "    # Encodage du texte d'entrée\n",
    "    input_ids = tokenizer.encode(input_text, add_special_tokens=True, return_tensors='pt')\n",
    "    with torch.no_grad():\n",
    "        outputs = model(input_ids)\n",
    "        input_embedding = outputs[0][:, 0, :].squeeze().numpy()\n",
    "\n",
    "    # Calcul de la similarité cosinus entre le texte d'entrée et chaque texte du corpus\n",
    "    similarities = [cosine_similarity(input_embedding, embedding) for embedding in corpus_embeddings]\n",
    "\n",
    "    # Trie les indices des textes du corpus par ordre de similarité décroissante\n",
    "    sorted_indices = np.argsort(similarities)[::-1]\n",
    "\n",
    "    # Récupère les n textes les plus similaires\n",
    "    similar_texts = [(corpus[i], similarities[i]) for i in sorted_indices[:n]]\n",
    "\n",
    "    return similar_texts\n"
   ]
  },
  {
   "cell_type": "code",
   "execution_count": 5,
   "metadata": {},
   "outputs": [],
   "source": [
    "# Encodage du corpus\n",
    "data = pd.read_csv(\"data/data.csv\", index_col=0)\n",
    "Titres = data.titre.values\n",
    "\n",
    "Titres_embedings=encode_corpus(corpus=Titres)"
   ]
  },
  {
   "cell_type": "code",
   "execution_count": 11,
   "metadata": {},
   "outputs": [
    {
     "name": "stdout",
     "output_type": "stream",
     "text": [
      "Textes les plus similaires :\n",
      "Gilles Ferréol, Philippe Deubel, Économie du travail Similarity: 0.9780381917953491\n",
      "François Perroux, Économie et société Similarity: 0.9704778790473938\n",
      "Reconversion des élites agraires.  Similarity: 0.9692001342773438\n"
     ]
    }
   ],
   "source": [
    "# Texte d'entrée en français\n",
    "input_text = \"Sociologie du travail rural\"\n",
    "\n",
    "# Recherche des 3 textes les plus similaires, possible de selectionner le nombre de texte similaires manuellement\n",
    "similar_texts = search_similar_texts(input_text, corpus_embeddings=Titres_embedings,corpus=Titres, n=3)\n",
    "\n",
    "# Affichage des textes les plus similaires\n",
    "print(\"Textes les plus similaires :\")\n",
    "for text, similarity in similar_texts:\n",
    "    print(text, \"Similarity:\", similarity)"
   ]
  }
 ],
 "metadata": {
  "kernelspec": {
   "display_name": "Python 3",
   "language": "python",
   "name": "python3"
  },
  "language_info": {
   "codemirror_mode": {
    "name": "ipython",
    "version": 3
   },
   "file_extension": ".py",
   "mimetype": "text/x-python",
   "name": "python",
   "nbconvert_exporter": "python",
   "pygments_lexer": "ipython3",
   "version": "3.10.2"
  }
 },
 "nbformat": 4,
 "nbformat_minor": 2
}
