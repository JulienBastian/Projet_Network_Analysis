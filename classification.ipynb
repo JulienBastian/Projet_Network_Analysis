{
 "cells": [
  {
   "cell_type": "markdown",
   "metadata": {},
   "source": [
    "# Classification"
   ]
  },
  {
   "cell_type": "code",
   "execution_count": null,
   "metadata": {},
   "outputs": [],
   "source": [
    "import networkx as nx\n",
    "import numpy as np\n",
    "import matplotlib.pyplot as plt\n",
    "import pandas as pd\n",
    "from sklearn.semi_supervised import LabelPropagation\n",
    "from sklearn.metrics import classification_report, confusion_matrix\n",
    "from sklearn.model_selection import train_test_split\n"
   ]
  },
  {
   "cell_type": "code",
   "execution_count": null,
   "metadata": {},
   "outputs": [],
   "source": [
    "# import des données préparées\n",
    "data = pd.read_csv(\"20240125_dataset_pickle/data.csv\", index_col=0)\n",
    "X = data.titre.values\n",
    "y = data.domaine.values\n",
    "\n",
    "# import du graphe\n",
    "G= nx.read_gexf(\"data/coauteur.gexf\")"
   ]
  },
  {
   "cell_type": "code",
   "execution_count": null,
   "metadata": {},
   "outputs": [],
   "source": [
    "X_train, X_test, y_train, y_test = train_test_split(data,\n",
    "                                                          y,\n",
    "                                                          train_size = 0.8,\n",
    "                                                          test_size=0.2, \n",
    "                                                          stratify = y,\n",
    "                                                          random_state=19032024\n",
    "                                                         )"
   ]
  },
  {
   "cell_type": "code",
   "execution_count": null,
   "metadata": {},
   "outputs": [],
   "source": [
    "domaine_code=[np.where(np.array(list(dict.fromkeys(y)))==e)[0][0]for e in y]\n",
    "\n",
    "# Affichage du graphe\n",
    "pos = nx.spring_layout(G)\n",
    "nx.draw(G, pos, with_labels=True, node_color=domaine_code, node_size=10, font_size=10)\n",
    "nx.draw_networkx_labels(G, pos, labels=domaine_code, font_size=12, font_color='red')\n",
    "plt.title(\"Graphe des articles scientifiques avec des étiquettes\")\n",
    "plt.show()"
   ]
  },
  {
   "cell_type": "code",
   "execution_count": null,
   "metadata": {},
   "outputs": [],
   "source": [
    "# Création de la matrice d'adjacence et des étiquettes\n",
    "adj_matrix = nx.to_numpy_matrix(G)\n",
    "y = np.array([domaine_code.get(node, None) for node in G.nodes()])\n",
    "\n",
    "y2=y_test\n",
    "y2=-1\n",
    "labels=pd.concat(y_train,y2)\n",
    "# Fit du modèle\n",
    "label_prop_model = LabelPropagation()\n",
    "label_prop_model.fit(adj_matrix, labels)\n",
    "\n",
    "# Prédiction des étiquettes pour tous les nœuds\n",
    "predicted_labels = label_prop_model.transduction_\n",
    "\n",
    "# Évaluation des résultats\n",
    "print(\"Classification Report:\")\n",
    "print(classification_report(labels, predicted_labels))\n",
    "\n",
    "# Matrice de confusion\n",
    "print(classification_report(labels, predicted_labels))\n",
    "conf_matrix = confusion_matrix(labels, predicted_labels)\n",
    "plt.figure(figsize=(6, 4))\n",
    "plt.imshow(conf_matrix, cmap=plt.cm.Blues)\n",
    "plt.colorbar()\n",
    "plt.title('Matrice de confusion')\n",
    "plt.xlabel('Classe prédite')\n",
    "plt.ylabel('Classe réelle')\n",
    "plt.show()"
   ]
  }
 ],
 "metadata": {
  "language_info": {
   "name": "python"
  }
 },
 "nbformat": 4,
 "nbformat_minor": 2
}
